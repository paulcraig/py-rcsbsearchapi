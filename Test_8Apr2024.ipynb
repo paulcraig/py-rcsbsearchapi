{
 "cells": [
  {
   "cell_type": "markdown",
   "id": "bd52e29b-3303-4598-8273-9b5f511163f1",
   "metadata": {},
   "source": [
    "# Test Notebook\n",
    "I'm just trying to remember how to use git and Github."
   ]
  },
  {
   "cell_type": "code",
   "execution_count": null,
   "id": "57c5e794-f9c5-4416-be4b-f8ec1933330e",
   "metadata": {},
   "outputs": [],
   "source": []
  }
 ],
 "metadata": {
  "kernelspec": {
   "display_name": "Python 3 (ipykernel)",
   "language": "python",
   "name": "python3"
  },
  "language_info": {
   "codemirror_mode": {
    "name": "ipython",
    "version": 3
   },
   "file_extension": ".py",
   "mimetype": "text/x-python",
   "name": "python",
   "nbconvert_exporter": "python",
   "pygments_lexer": "ipython3",
   "version": "3.10.9"
  }
 },
 "nbformat": 4,
 "nbformat_minor": 5
}
